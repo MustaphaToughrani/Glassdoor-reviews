{
 "cells": [
  {
   "cell_type": "markdown",
   "metadata": {},
   "source": [
    "Opening the glassdoor file"
   ]
  },
  {
   "cell_type": "code",
   "execution_count": 25,
   "metadata": {},
   "outputs": [],
   "source": [
    "from csv import reader\n",
    " \n",
    "opened_file = open('employee_reviews.csv',encoding='utf-8')\n",
    "\n",
    "read_file = reader (opened_file)\n",
    "\n",
    "dataset = list (read_file)\n",
    "\n",
    "header_data = (dataset[0])\n",
    "\n",
    "data =dataset [1:]"
   ]
  },
  {
   "cell_type": "markdown",
   "metadata": {},
   "source": [
    "Creating dictionnaries for frequency_tables"
   ]
  },
  {
   "cell_type": "code",
   "execution_count": 26,
   "metadata": {},
   "outputs": [],
   "source": [
    "companies = {}\n",
    "titles = {}\n",
    "locations = {}"
   ]
  },
  {
   "cell_type": "markdown",
   "metadata": {},
   "source": [
    "loop into the data and populate dictionnaries"
   ]
  },
  {
   "cell_type": "code",
   "execution_count": 27,
   "metadata": {},
   "outputs": [],
   "source": [
    "for each_row in data:\n",
    "    company = each_row [1]\n",
    "    title = each_row [4]\n",
    "    location = each_row [2]\n",
    "    \n",
    "    if company not in companies:\n",
    "        companies [company] =1\n",
    "    else:\n",
    "        companies[company] +=1\n",
    "        title_clean = title.split (\"-\")\n",
    "        job = title_clean [1]\n",
    "    \n",
    "    if job not in titles:\n",
    "        titles [job] =1\n",
    "    else:\n",
    "        titles [job] +=1\n",
    "\n",
    "# populate location dictionnary\n",
    "    if location not in locations:\n",
    "        locations [location] =1\n",
    "    else:\n",
    "        locations[location] +=1        "
   ]
  },
  {
   "cell_type": "markdown",
   "metadata": {},
   "source": [
    "convert dictionnaries to lists"
   ]
  },
  {
   "cell_type": "code",
   "execution_count": 28,
   "metadata": {},
   "outputs": [],
   "source": [
    "list_companies = []\n",
    "list_titles = []\n",
    "list_locations = []"
   ]
  },
  {
   "cell_type": "code",
   "execution_count": 29,
   "metadata": {},
   "outputs": [],
   "source": [
    "for each_value in companies:\n",
    "    \n",
    "    perc = 100*(companies[each_value]/sum(companies.values()))\n",
    "    item = (companies[each_value],each_value,perc)\n",
    "    list_companies.append(item)\n",
    "    list_companies = sorted (list_companies, reverse =True)\n",
    "    "
   ]
  },
  {
   "cell_type": "code",
   "execution_count": 30,
   "metadata": {},
   "outputs": [],
   "source": [
    "for each_value in titles:\n",
    "    title = (titles[each_value], each_value)\n",
    "    list_titles.append(title)\n",
    "    list_titles = sorted(list_titles, reverse = True)"
   ]
  },
  {
   "cell_type": "code",
   "execution_count": 31,
   "metadata": {},
   "outputs": [],
   "source": [
    "for each_value in locations:\n",
    "    location = (locations[each_value], each_value)\n",
    "    list_locations.append(location)\n",
    "    list_locations= sorted(list_locations, reverse = True)"
   ]
  },
  {
   "cell_type": "code",
   "execution_count": 32,
   "metadata": {},
   "outputs": [
    {
     "name": "stdout",
     "output_type": "stream",
     "text": [
      "There are 26430 reviews from amazon's employees. It represents 39.14% of the total.\n",
      "There are 17930 reviews from microsoft's employees. It represents 26.55% of the total.\n",
      "There are 12950 reviews from apple's employees. It represents 19.18% of the total.\n",
      "There are 7819 reviews from google's employees. It represents 11.58% of the total.\n",
      "There are 1590 reviews from facebook's employees. It represents 2.35% of the total.\n",
      "There are 810 reviews from netflix's employees. It represents 1.20% of the total.\n"
     ]
    }
   ],
   "source": [
    "for each_value in list_companies:\n",
    "    nr_of_reviews = each_value [0]\n",
    "    company_name = each_value [1]\n",
    "    company_perc = each_value [2]\n",
    "    template = \"There are {nr_of_reviews} reviews from {company}'s employees. It represents {perc:.2f}% of the total.\"\n",
    "    \n",
    "    output = template.format(nr_of_reviews=nr_of_reviews, company = company_name, perc =company_perc)\n",
    "    print (output)"
   ]
  }
 ],
 "metadata": {
  "kernelspec": {
   "display_name": "Python 3",
   "language": "python",
   "name": "python3"
  },
  "language_info": {
   "codemirror_mode": {
    "name": "ipython",
    "version": 3
   },
   "file_extension": ".py",
   "mimetype": "text/x-python",
   "name": "python",
   "nbconvert_exporter": "python",
   "pygments_lexer": "ipython3",
   "version": "3.6.7"
  }
 },
 "nbformat": 4,
 "nbformat_minor": 2
}
